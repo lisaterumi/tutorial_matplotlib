{
 "cells": [
  {
   "cell_type": "markdown",
   "metadata": {},
   "source": [
    "# Gráfico de caixa (*Boxplot*)\n",
    "\n",
    "O gráfico *Boxplot* oferece um bom resumo dos dados, ajudando a compreender melhor a nossa distribuição.\n",
    "\n",
    "Quando usar: Deve ser usado quando precisamos usar as informações estatísticas gerais sobre a distribuição dos dados. Ele pode ser usado para detectar *outliers* nos dados."
   ]
  },
  {
   "cell_type": "markdown",
   "metadata": {},
   "source": [
    "### Compreendendo o Boxplot\n"
   ]
  },
  {
   "cell_type": "markdown",
   "metadata": {},
   "source": [
    "<img src=\"./img/boxplot2.png\" width=\"400\">\n"
   ]
  },
  {
   "cell_type": "markdown",
   "metadata": {},
   "source": [
    "No diagrama acima, a linha que divide a caixa em 2 partes representa a mediana dos dados. \n",
    "\n",
    "O final da caixa mostra o quartil superior (75%) e o início da caixa representa o quartil inferior (25%). O quartil superior também é chamado de terceiro quartil e, da mesma forma, o quartil inferior também é chamado de primeiro quartil. \n",
    "\n",
    "A região entre o quartil inferior e o quartil superior é chamada de Intervalo Interquartil (IQR) e é usada para aproximar a propagação de 50% nos dados intermediários (75–25 = 50%). \n",
    "\n",
    "O *maximum* é o valor mais alto dos dados, da mesma forma, o *minimum* é o valor mais baixo (chamado de \"caps\"). \n",
    "\n",
    "Os pontos fora das caixas e entre o máximo e o máximo são chamados de *whiskers* (retas ou \"fio do bigode\"), eles mostram a faixa de valores nos dados. \n",
    "\n",
    "Os pontos extremos são *outliers* (valores atípicos), ou seja, se for menor que o quartil inferior-1,5 * IQR ou alto que o quartil superior + 1,5 * IQR."
   ]
  },
  {
   "cell_type": "markdown",
   "metadata": {},
   "source": [
    "### Importando bibliotecas e dados"
   ]
  },
  {
   "cell_type": "code",
   "execution_count": 1,
   "metadata": {},
   "outputs": [],
   "source": [
    "import numpy as np\n",
    "import matplotlib\n",
    "import matplotlib.pyplot as plt\n",
    "import pandas as pd\n",
    "\n",
    "exam_data = pd.read_csv('datasets/exams.csv')"
   ]
  },
  {
   "cell_type": "code",
   "execution_count": 2,
   "metadata": {},
   "outputs": [
    {
     "data": {
      "text/html": [
       "<div>\n",
       "<style scoped>\n",
       "    .dataframe tbody tr th:only-of-type {\n",
       "        vertical-align: middle;\n",
       "    }\n",
       "\n",
       "    .dataframe tbody tr th {\n",
       "        vertical-align: top;\n",
       "    }\n",
       "\n",
       "    .dataframe thead th {\n",
       "        text-align: right;\n",
       "    }\n",
       "</style>\n",
       "<table border=\"1\" class=\"dataframe\">\n",
       "  <thead>\n",
       "    <tr style=\"text-align: right;\">\n",
       "      <th></th>\n",
       "      <th>gender</th>\n",
       "      <th>race/ethnicity</th>\n",
       "      <th>parental level of education</th>\n",
       "      <th>lunch</th>\n",
       "      <th>test preparation course</th>\n",
       "      <th>math score</th>\n",
       "      <th>reading score</th>\n",
       "      <th>writing score</th>\n",
       "    </tr>\n",
       "  </thead>\n",
       "  <tbody>\n",
       "    <tr>\n",
       "      <th>0</th>\n",
       "      <td>male</td>\n",
       "      <td>group C</td>\n",
       "      <td>some high school</td>\n",
       "      <td>free/reduced</td>\n",
       "      <td>none</td>\n",
       "      <td>69</td>\n",
       "      <td>61</td>\n",
       "      <td>58</td>\n",
       "    </tr>\n",
       "    <tr>\n",
       "      <th>1</th>\n",
       "      <td>female</td>\n",
       "      <td>group C</td>\n",
       "      <td>some college</td>\n",
       "      <td>free/reduced</td>\n",
       "      <td>completed</td>\n",
       "      <td>47</td>\n",
       "      <td>65</td>\n",
       "      <td>69</td>\n",
       "    </tr>\n",
       "    <tr>\n",
       "      <th>2</th>\n",
       "      <td>male</td>\n",
       "      <td>group A</td>\n",
       "      <td>high school</td>\n",
       "      <td>standard</td>\n",
       "      <td>none</td>\n",
       "      <td>66</td>\n",
       "      <td>52</td>\n",
       "      <td>53</td>\n",
       "    </tr>\n",
       "    <tr>\n",
       "      <th>3</th>\n",
       "      <td>male</td>\n",
       "      <td>group B</td>\n",
       "      <td>some college</td>\n",
       "      <td>standard</td>\n",
       "      <td>none</td>\n",
       "      <td>88</td>\n",
       "      <td>89</td>\n",
       "      <td>82</td>\n",
       "    </tr>\n",
       "    <tr>\n",
       "      <th>4</th>\n",
       "      <td>female</td>\n",
       "      <td>group C</td>\n",
       "      <td>master's degree</td>\n",
       "      <td>free/reduced</td>\n",
       "      <td>none</td>\n",
       "      <td>62</td>\n",
       "      <td>82</td>\n",
       "      <td>76</td>\n",
       "    </tr>\n",
       "  </tbody>\n",
       "</table>\n",
       "</div>"
      ],
      "text/plain": [
       "   gender race/ethnicity parental level of education         lunch  \\\n",
       "0    male        group C            some high school  free/reduced   \n",
       "1  female        group C                some college  free/reduced   \n",
       "2    male        group A                 high school      standard   \n",
       "3    male        group B                some college      standard   \n",
       "4  female        group C             master's degree  free/reduced   \n",
       "\n",
       "  test preparation course  math score  reading score  writing score  \n",
       "0                    none          69             61             58  \n",
       "1               completed          47             65             69  \n",
       "2                    none          66             52             53  \n",
       "3                    none          88             89             82  \n",
       "4                    none          62             82             76  "
      ]
     },
     "execution_count": 2,
     "metadata": {},
     "output_type": "execute_result"
    }
   ],
   "source": [
    "exam_data.head()"
   ]
  },
  {
   "cell_type": "markdown",
   "metadata": {},
   "source": [
    "#### Extraindo apenas as pontuações do exame"
   ]
  },
  {
   "cell_type": "code",
   "execution_count": 3,
   "metadata": {},
   "outputs": [
    {
     "data": {
      "text/html": [
       "<div>\n",
       "<style scoped>\n",
       "    .dataframe tbody tr th:only-of-type {\n",
       "        vertical-align: middle;\n",
       "    }\n",
       "\n",
       "    .dataframe tbody tr th {\n",
       "        vertical-align: top;\n",
       "    }\n",
       "\n",
       "    .dataframe thead th {\n",
       "        text-align: right;\n",
       "    }\n",
       "</style>\n",
       "<table border=\"1\" class=\"dataframe\">\n",
       "  <thead>\n",
       "    <tr style=\"text-align: right;\">\n",
       "      <th></th>\n",
       "      <th>math score</th>\n",
       "      <th>reading score</th>\n",
       "      <th>writing score</th>\n",
       "    </tr>\n",
       "  </thead>\n",
       "  <tbody>\n",
       "    <tr>\n",
       "      <th>0</th>\n",
       "      <td>69</td>\n",
       "      <td>61</td>\n",
       "      <td>58</td>\n",
       "    </tr>\n",
       "    <tr>\n",
       "      <th>1</th>\n",
       "      <td>47</td>\n",
       "      <td>65</td>\n",
       "      <td>69</td>\n",
       "    </tr>\n",
       "    <tr>\n",
       "      <th>2</th>\n",
       "      <td>66</td>\n",
       "      <td>52</td>\n",
       "      <td>53</td>\n",
       "    </tr>\n",
       "    <tr>\n",
       "      <th>3</th>\n",
       "      <td>88</td>\n",
       "      <td>89</td>\n",
       "      <td>82</td>\n",
       "    </tr>\n",
       "    <tr>\n",
       "      <th>4</th>\n",
       "      <td>62</td>\n",
       "      <td>82</td>\n",
       "      <td>76</td>\n",
       "    </tr>\n",
       "  </tbody>\n",
       "</table>\n",
       "</div>"
      ],
      "text/plain": [
       "   math score  reading score  writing score\n",
       "0          69             61             58\n",
       "1          47             65             69\n",
       "2          66             52             53\n",
       "3          88             89             82\n",
       "4          62             82             76"
      ]
     },
     "execution_count": 3,
     "metadata": {},
     "output_type": "execute_result"
    }
   ],
   "source": [
    "exam_scores = exam_data[['math score', 'reading score', 'writing score']]\n",
    "exam_scores.head()"
   ]
  },
  {
   "cell_type": "code",
   "execution_count": 4,
   "metadata": {
    "scrolled": true
   },
   "outputs": [
    {
     "data": {
      "text/html": [
       "<div>\n",
       "<style scoped>\n",
       "    .dataframe tbody tr th:only-of-type {\n",
       "        vertical-align: middle;\n",
       "    }\n",
       "\n",
       "    .dataframe tbody tr th {\n",
       "        vertical-align: top;\n",
       "    }\n",
       "\n",
       "    .dataframe thead th {\n",
       "        text-align: right;\n",
       "    }\n",
       "</style>\n",
       "<table border=\"1\" class=\"dataframe\">\n",
       "  <thead>\n",
       "    <tr style=\"text-align: right;\">\n",
       "      <th></th>\n",
       "      <th>math score</th>\n",
       "      <th>reading score</th>\n",
       "      <th>writing score</th>\n",
       "    </tr>\n",
       "  </thead>\n",
       "  <tbody>\n",
       "    <tr>\n",
       "      <th>count</th>\n",
       "      <td>100.000000</td>\n",
       "      <td>100.000000</td>\n",
       "      <td>100.000000</td>\n",
       "    </tr>\n",
       "    <tr>\n",
       "      <th>mean</th>\n",
       "      <td>67.150000</td>\n",
       "      <td>69.180000</td>\n",
       "      <td>67.780000</td>\n",
       "    </tr>\n",
       "    <tr>\n",
       "      <th>std</th>\n",
       "      <td>12.797865</td>\n",
       "      <td>13.832607</td>\n",
       "      <td>14.874954</td>\n",
       "    </tr>\n",
       "    <tr>\n",
       "      <th>min</th>\n",
       "      <td>36.000000</td>\n",
       "      <td>34.000000</td>\n",
       "      <td>33.000000</td>\n",
       "    </tr>\n",
       "    <tr>\n",
       "      <th>25%</th>\n",
       "      <td>56.000000</td>\n",
       "      <td>60.000000</td>\n",
       "      <td>57.750000</td>\n",
       "    </tr>\n",
       "    <tr>\n",
       "      <th>50%</th>\n",
       "      <td>68.000000</td>\n",
       "      <td>69.000000</td>\n",
       "      <td>68.500000</td>\n",
       "    </tr>\n",
       "    <tr>\n",
       "      <th>75%</th>\n",
       "      <td>76.000000</td>\n",
       "      <td>80.000000</td>\n",
       "      <td>77.250000</td>\n",
       "    </tr>\n",
       "    <tr>\n",
       "      <th>max</th>\n",
       "      <td>95.000000</td>\n",
       "      <td>99.000000</td>\n",
       "      <td>100.000000</td>\n",
       "    </tr>\n",
       "  </tbody>\n",
       "</table>\n",
       "</div>"
      ],
      "text/plain": [
       "       math score  reading score  writing score\n",
       "count  100.000000     100.000000     100.000000\n",
       "mean    67.150000      69.180000      67.780000\n",
       "std     12.797865      13.832607      14.874954\n",
       "min     36.000000      34.000000      33.000000\n",
       "25%     56.000000      60.000000      57.750000\n",
       "50%     68.000000      69.000000      68.500000\n",
       "75%     76.000000      80.000000      77.250000\n",
       "max     95.000000      99.000000     100.000000"
      ]
     },
     "execution_count": 4,
     "metadata": {},
     "output_type": "execute_result"
    }
   ],
   "source": [
    "exam_scores.describe()"
   ]
  },
  {
   "cell_type": "code",
   "execution_count": 5,
   "metadata": {
    "scrolled": true
   },
   "outputs": [
    {
     "data": {
      "text/plain": [
       "array([[ 69,  61,  58],\n",
       "       [ 47,  65,  69],\n",
       "       [ 66,  52,  53],\n",
       "       [ 88,  89,  82],\n",
       "       [ 62,  82,  76],\n",
       "       [ 47,  69,  60],\n",
       "       [ 71,  66,  74],\n",
       "       [ 57,  62,  60],\n",
       "       [ 60,  67,  65],\n",
       "       [ 74,  72,  76],\n",
       "       [ 77,  71,  67],\n",
       "       [ 69,  79,  83],\n",
       "       [ 65,  62,  56],\n",
       "       [ 55,  58,  51],\n",
       "       [ 78,  88,  91],\n",
       "       [ 70,  72,  72],\n",
       "       [ 55,  69,  55],\n",
       "       [ 68,  68,  62],\n",
       "       [ 73,  62,  58],\n",
       "       [ 54,  50,  51],\n",
       "       [ 81,  76,  77],\n",
       "       [ 70,  76,  73],\n",
       "       [ 64,  62,  63],\n",
       "       [ 51,  66,  63],\n",
       "       [ 49,  50,  43],\n",
       "       [ 83,  80,  82],\n",
       "       [ 86,  92,  81],\n",
       "       [ 83,  89,  94],\n",
       "       [ 61,  77,  68],\n",
       "       [ 55,  50,  44],\n",
       "       [ 56,  59,  55],\n",
       "       [ 46,  57,  61],\n",
       "       [ 68,  60,  52],\n",
       "       [ 78,  75,  69],\n",
       "       [ 85,  94,  93],\n",
       "       [ 95,  99,  95],\n",
       "       [ 82,  74,  78],\n",
       "       [ 94,  85,  96],\n",
       "       [ 64,  71,  68],\n",
       "       [ 70,  80,  85],\n",
       "       [ 84,  78,  84],\n",
       "       [ 62,  81,  73],\n",
       "       [ 52,  58,  53],\n",
       "       [ 89,  72,  74],\n",
       "       [ 64,  63,  63],\n",
       "       [ 74,  77,  72],\n",
       "       [ 50,  54,  54],\n",
       "       [ 86,  76,  82],\n",
       "       [ 53,  62,  64],\n",
       "       [ 36,  35,  33],\n",
       "       [ 64,  81,  75],\n",
       "       [ 71,  69,  74],\n",
       "       [ 73,  79,  77],\n",
       "       [ 80,  81,  72],\n",
       "       [ 75,  66,  67],\n",
       "       [ 64,  57,  51],\n",
       "       [ 68,  87,  77],\n",
       "       [ 73,  60,  65],\n",
       "       [ 77,  76,  69],\n",
       "       [ 85,  89,  85],\n",
       "       [ 77,  85,  82],\n",
       "       [ 53,  70,  72],\n",
       "       [ 48,  43,  42],\n",
       "       [ 91,  91, 100],\n",
       "       [ 67,  81,  85],\n",
       "       [ 74,  87,  88],\n",
       "       [ 70,  82,  78],\n",
       "       [ 65,  56,  58],\n",
       "       [ 75,  67,  63],\n",
       "       [ 63,  56,  49],\n",
       "       [ 86,  92,  94],\n",
       "       [ 76,  87,  85],\n",
       "       [ 56,  62,  67],\n",
       "       [ 48,  61,  64],\n",
       "       [ 67,  62,  60],\n",
       "       [ 80,  86,  88],\n",
       "       [ 77,  73,  74],\n",
       "       [ 51,  58,  53],\n",
       "       [ 71,  80,  84],\n",
       "       [ 59,  67,  72],\n",
       "       [ 69,  62,  57],\n",
       "       [ 74,  71,  71],\n",
       "       [ 63,  68,  65],\n",
       "       [ 68,  54,  50],\n",
       "       [ 69,  79,  73],\n",
       "       [ 75,  86,  89],\n",
       "       [ 79,  81,  74],\n",
       "       [ 51,  36,  44],\n",
       "       [ 59,  60,  56],\n",
       "       [ 49,  55,  49],\n",
       "       [ 76,  76,  69],\n",
       "       [ 75,  78,  77],\n",
       "       [ 54,  45,  43],\n",
       "       [ 45,  63,  65],\n",
       "       [ 75,  75,  78],\n",
       "       [ 56,  59,  61],\n",
       "       [ 64,  57,  62],\n",
       "       [ 62,  48,  38],\n",
       "       [ 44,  34,  36],\n",
       "       [ 48,  48,  40]], dtype=int64)"
      ]
     },
     "execution_count": 5,
     "metadata": {},
     "output_type": "execute_result"
    }
   ],
   "source": [
    "# Para plotagem em boxplot, nós o convertemos em um array\n",
    "exam_scores_array = np.array(exam_scores)\n",
    "exam_scores_array"
   ]
  },
  {
   "cell_type": "markdown",
   "metadata": {},
   "source": [
    "###  Gerando o gráfico"
   ]
  },
  {
   "cell_type": "code",
   "execution_count": 6,
   "metadata": {
    "scrolled": true
   },
   "outputs": [
    {
     "data": {
      "image/png": "[encoded data removed]",
      "text/plain": [
       "<Figure size 432x288 with 1 Axes>"
      ]
     },
     "metadata": {
      "needs_background": "light"
     },
     "output_type": "display_data"
    }
   ],
   "source": [
    "colors = ['blue', 'grey', 'lawngreen']\n",
    "\n",
    "bp = plt.boxplot(exam_scores_array, \n",
    "                 patch_artist=True,\n",
    "                 notch=True)\n",
    "\n",
    "for i in range(len(bp['boxes'])):\n",
    "    \n",
    "    bp['boxes'][i].set(facecolor=colors[i])\n",
    "    \n",
    "    bp['caps'][2*i + 1].set(color=colors[i])\n",
    "    \n",
    "plt.xticks([1, 2, 3], ['Math', 'Reading', 'Writing'])\n",
    "\n",
    "plt.show()"
   ]
  },
  {
   "cell_type": "markdown",
   "metadata": {},
   "source": [
    "```bp``` contém os componentes do boxplot como caixas, retas (\"fios de bigode\"), medianas, \"caps\". \n",
    "\n",
    "OBS: Outra biblioteca de plotagem (\"Seaborn\") torna mais fácil construir plotagens personalizadas do que a \"matplotlib\".\n",
    "\n",
    "```patch_artist``` torna a personalização possível. \n",
    "\n",
    "```notch``` faz com que a mediana pareça mais proeminente.\n",
    "\n",
    "Uma advertência ao usar o boxplot é que o número de observações no valor único não está definido, o \"Jitter Plot\" do \"Seaborn\" ou o \"Violinplot\" podem superar isso."
   ]
  },
  {
   "cell_type": "markdown",
   "metadata": {},
   "source": [
    "### Violin Plots\n",
    "\n",
    "Semelhante aos boxplots, mas mostram a densidade dos pontos de dados em torno de um determinado valor com suas larguras.\n",
    "\n",
    "O gráfico de violino é um gráfico melhor do que o boxplot, pois dá uma compreensão muito mais ampla da distribuição. Assemelha-se a um violino e as áreas densas apontam para a maior distribuição de dados, de outra forma escondidos por boxplots\n",
    "\n",
    "Quando usar: é uma extensão do boxplot, deve ser usado quando precisamos de um melhor entendimento intuitivo dos dados."
   ]
  },
  {
   "cell_type": "code",
   "execution_count": 7,
   "metadata": {},
   "outputs": [
    {
     "data": {
      "image/png": "[encoded data removed]",
      "text/plain": [
       "<Figure size 432x288 with 1 Axes>"
      ]
     },
     "metadata": {
      "needs_background": "light"
     },
     "output_type": "display_data"
    }
   ],
   "source": [
    "vp = plt.violinplot(exam_scores_array,\n",
    "                    showmedians=True)\n",
    "\n",
    "plt.xticks([1, 2, 3], ['Math', 'Reading', 'Writing'])\n",
    "\n",
    "for i in range(len(vp['bodies'])):\n",
    "    vp['bodies'][i].set(facecolor=colors[i])\n",
    "\n",
    "plt.show()    "
   ]
  },
  {
   "cell_type": "markdown",
   "metadata": {},
   "source": [
    "A densidade de pontos no meio se destacam mais, pois no nosso *dataset* os alunos tendem a pontuar geralmente em torno da média."
   ]
  },
  {
   "cell_type": "markdown",
   "metadata": {},
   "source": [
    "Fonte: Traduzido de [Data-visualization-using-matplotlib](https://towardsdatascience.com/data-visualization-using-matplotlib-16f1aae5ce70)"
   ]
  }
 ],
 "metadata": {
  "kernelspec": {
   "display_name": "Python 3",
   "language": "python",
   "name": "python3"
  },
  "language_info": {
   "codemirror_mode": {
    "name": "ipython",
    "version": 3
   },
   "file_extension": ".py",
   "mimetype": "text/x-python",
   "name": "python",
   "nbconvert_exporter": "python",
   "pygments_lexer": "ipython3",
   "version": "3.8.5"
  }
 },
 "nbformat": 4,
 "nbformat_minor": 2
}
